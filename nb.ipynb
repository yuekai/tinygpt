{
 "cells": [
  {
   "cell_type": "code",
   "execution_count": 1,
   "metadata": {},
   "outputs": [
    {
     "data": {
      "image/png": "[encoded data removed]",
      "text/plain": [
       "<Figure size 400x300 with 1 Axes>"
      ]
     },
     "metadata": {},
     "output_type": "display_data"
    }
   ],
   "source": [
    "import matplotlib.pyplot as plt\n",
    "\n",
    "# Read the training log file and extract the data\n",
    "train_iters = []\n",
    "train_loss = []\n",
    "with open('log/train_log.txt', 'r') as file:\n",
    "  next(file) # Skip the header line    \n",
    "  for i1, line in enumerate(file):\n",
    "    # Split the line by '|' and strip whitespace\n",
    "    parts = [part.strip() for part in line.split('|')]\n",
    "    # Check if we have enough parts and the first part can be converted to int\n",
    "    try:\n",
    "      iter = int(parts[0])\n",
    "      loss = float(parts[1])\n",
    "      train_iters.append(iter)\n",
    "      train_loss.append(loss)\n",
    "    except (ValueError, IndexError):\n",
    "      continue\n",
    "\n",
    "val_iters = []\n",
    "val_loss = []\n",
    "with open('log/val_log.txt', 'r') as file:\n",
    "  next(file) # Skip the header line    \n",
    "  for line in file:\n",
    "    # Split the line by '|' and strip whitespace\n",
    "    parts = [part.strip() for part in line.split('|')]\n",
    "    # Check if we have enough parts and the first part can be converted to int\n",
    "    try:\n",
    "      iter = int(parts[0])\n",
    "      loss = float(parts[1])\n",
    "      val_iters.append(iter)\n",
    "      val_loss.append(loss)\n",
    "    except (ValueError, IndexError):\n",
    "      continue\n",
    "\n",
    "# Create the plot\n",
    "plt.figure(figsize=(4, 3))\n",
    "plt.semilogy(train_iters, train_loss)\n",
    "plt.semilogy(val_iters, val_loss)\n",
    "\n",
    "# Add labels and title\n",
    "plt.xlabel('iters')\n",
    "plt.ylabel('loss')\n",
    "\n",
    "# Add grid\n",
    "plt.grid(True, linestyle='--')\n",
    "\n",
    "# Display the plot\n",
    "plt.show()"
   ]
  },
  {
   "cell_type": "code",
   "execution_count": 2,
   "metadata": {},
   "outputs": [
    {
     "name": "stderr",
     "output_type": "stream",
     "text": [
      "/Users/yuekai/miniforge3/envs/nanogpt/lib/python3.9/site-packages/tqdm/auto.py:21: TqdmWarning: IProgress not found. Please update jupyter and ipywidgets. See https://ipywidgets.readthedocs.io/en/stable/user_install.html\n",
      "  from .autonotebook import tqdm as notebook_tqdm\n"
     ]
    },
    {
     "name": "stdout",
     "output_type": "stream",
     "text": [
      "using cpu\n",
      "<|endoftext|>Once upon a time, there was a chubby bunny named Bongo. Bongo loved to play all day long. One day, Bongo wanted to go outside and play, but it had a tug--ri ran out of exhaustion. Bongo didn't know what to do and he was so grumpy! \n",
      "\n",
      "Bongo decided to ask his friend, a bear named Ben, for help. Ben was so happy to help Bongo, but Peppa told him it was too late. Bongo had won and his digging. Bongo was so happy that he tried to help his friend. \n",
      "\n",
      "Together, they worked both around the meadow, and Bongo was so proud! After many days, Bongo and Ben became best friends. Bongo was so happy that he forgot all about the scary size of Jack's rattle. The moral of the story is that right friends can help you become a better team.<|endoftext|>Once there was a little girl called Kayla\n"
     ]
    }
   ],
   "source": [
    "from dataclasses import dataclass\n",
    "from gpt import GPT\n",
    "import torch\n",
    "from transformers import AutoTokenizer\n",
    "\n",
    "@dataclass\n",
    "class GPTConfig:\n",
    "  block_size: int = 2048\n",
    "  vocab_size: int = 50257\n",
    "  n_layer: int = 12\n",
    "  n_head: int = 12\n",
    "  n_embd: int = 768\n",
    "\n",
    "# autodetect GPU\n",
    "device = \"cpu\"\n",
    "if torch.cuda.is_available():\n",
    "  device = \"cuda\"\n",
    "# elif hasattr(torch.backends, \"mps\") and torch.backends.mps.is_available():\n",
    "#   device = \"mps\"\n",
    "print(f\"using {device}\")\n",
    "checkpoint = torch.load(\"log/checkpoint_00999.pt\", map_location=torch.device(device), weights_only=False)\n",
    "\n",
    "model = GPT(checkpoint[\"model_config\"])\n",
    "model.to(device)\n",
    "model = torch.compile(model)\n",
    "model.load_state_dict(checkpoint[\"model_state\"])\n",
    "model.eval()\n",
    "\n",
    "tokenizer = AutoTokenizer.from_pretrained(\"EleutherAI/gpt-neo-125M\")\n",
    "prompt = torch.tensor([[tokenizer.eos_token_id]], dtype=torch.long).to(device) # start generation with <|endoftext|> token\n",
    "generation = model.generate(prompt, max_new_tokens=200)[0]\n",
    "print(tokenizer.decode(generation.tolist()))"
   ]
  },
  {
   "cell_type": "code",
   "execution_count": null,
   "metadata": {},
   "outputs": [],
   "source": []
  }
 ],
 "metadata": {
  "kernelspec": {
   "display_name": "nanogpt",
   "language": "python",
   "name": "python3"
  },
  "language_info": {
   "codemirror_mode": {
    "name": "ipython",
    "version": 3
   },
   "file_extension": ".py",
   "mimetype": "text/x-python",
   "name": "python",
   "nbconvert_exporter": "python",
   "pygments_lexer": "ipython3",
   "version": "3.9.21"
  }
 },
 "nbformat": 4,
 "nbformat_minor": 2
}
